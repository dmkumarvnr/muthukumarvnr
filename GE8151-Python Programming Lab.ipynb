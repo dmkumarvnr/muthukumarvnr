{
  "cells": [
    {
      "metadata": {
        "collapsed": true
      },
      "cell_type": "markdown",
      "source": "# GE8161 - PYTHON PROGRAMMING LAB."
    },
    {
      "metadata": {
        "trusted": true
      },
      "cell_type": "code",
      "source": "print (\"Hello world\")",
      "execution_count": 1,
      "outputs": [
        {
          "output_type": "stream",
          "text": "Hello world\n",
          "name": "stdout"
        }
      ]
    },
    {
      "metadata": {
        "trusted": true
      },
      "cell_type": "code",
      "source": "print (\"D.Muthukumar\")",
      "execution_count": 2,
      "outputs": [
        {
          "output_type": "stream",
          "text": "D.Muthukumar\n",
          "name": "stdout"
        }
      ]
    },
    {
      "metadata": {
        "trusted": true
      },
      "cell_type": "code",
      "source": "#Ex.1 Swapping two numbers using temporary variables\nnum1=input('Enter the First Nmber:')\nnum2=input('Enter the Second Number:')\nprint('Before Swapping ')\nprint('Number1=',num1,'  Number2=',num2)\ntemp=num1\nnum1=num2\nnum2=temp\nprint('After  Swapping ')\nprint('Number1=',num1,'  Number2=',num2)",
      "execution_count": 8,
      "outputs": [
        {
          "output_type": "stream",
          "name": "stdout",
          "text": "Enter the First Nmber:12\nEnter the Second Number:10\nBefore Swapping \nNumber1= 12   Number2= 10\nAfter  Swapping \nNumber1= 10   Number2= 12\n"
        }
      ]
    },
    {
      "metadata": {
        "trusted": true,
        "scrolled": true
      },
      "cell_type": "code",
      "source": "#Ex.1.2 Swapping two numbers without using temporary variables\nnum1=input('Enter the First Nmber:')\nnum2=input('Enter the Second Number:')\nprint('Before Swapping ')\nprint('Number1=',num1,'  Number2=',num2)\nnum2,num1=num1,num2\nprint('After  Swapping ')\nprint('Number1=',num1,'  Number2=',num2)",
      "execution_count": 1,
      "outputs": [
        {
          "output_type": "stream",
          "name": "stdout",
          "text": "Enter the First Nmber:15\nEnter the Second Number:30\nBefore Swapping \nNumber1= 15   Number2= 30\nAfter  Swapping \nNumber1= 30   Number2= 15\n"
        }
      ]
    },
    {
      "metadata": {
        "trusted": true
      },
      "cell_type": "code",
      "source": "# To convert celsius to fahrenheit and fahrenheit to celsius vice versa\ncelsius=float(input('Enter the temperature in celsius:\\n'))\nfahrenheit=(celsius * 1.8)+32\nprint('Temperature in fahrenheit is : \\t',fahrenheit)\nprint('Fahrenheit to celsius conversion...')\ncelsius1=(fahrenheit-32)/1.8\nprint('Temperature in celsius is:\\t',celsius1)",
      "execution_count": 2,
      "outputs": [
        {
          "output_type": "stream",
          "name": "stdout",
          "text": "Enter the temperature in celsius:\n32\nTemperature in fahrenheit is : \t 89.6\nFahrenheit to celsius conversion...\nTemperature in celsius is:\t 31.999999999999996\n"
        }
      ]
    },
    {
      "metadata": {
        "trusted": true
      },
      "cell_type": "code",
      "source": "# To find the Area of Circumference of the circle\npi=3.14 \nradius=float(input('Enter the radius of circle:')) \narea=3.14* radius* radius\ncircumference=2*3.14 *radius\nprint('Area of the circle=',area) \nprint('Circumference of the circle =',circumference)",
      "execution_count": null,
      "outputs": []
    },
    {
      "metadata": {
        "trusted": true
      },
      "cell_type": "code",
      "source": "# 1.5 Binary, Octal, HexaDecimal Conversion\nnum1=int(input('Enter the integer number:'))\nbin1=bin(num1)\noct1=oct(num1)\nhexadec1=hex(num1)\nprint('Input Integer value:',num1)\nprint('Integer to Binary Equivalent:', bin1)\nprint('Integer to Octal Equivalent:',oct1)\nprint('Integer to HexaDecimal Equivalent=',hexadec1)\nbinnum=int(bin1,2)\noctnum=int(oct1,8)\nhexadecnum=int(hexadec1,16)\nprint('Binary to Integer Equivalent=', binnum)\nprint('Octal to Integer Equivalent=',octnum)\nprint('Hexa Decimal to Integer Equivalent=',hexadecnum)",
      "execution_count": 1,
      "outputs": [
        {
          "output_type": "stream",
          "name": "stdout",
          "text": "Enter the integer number:15\nInput Integer value: 15\nInteger to Binary Equivalent: 0b1111\nInteger to Octal Equivalent: 0o17\nInteger to HexaDecimal Equivalent= 0xf\nBinary to Integer Equivalent= 15\nOctal to Integer Equivalent= 15\nHexa Decimal to Integer Equivalent= 15\n"
        }
      ]
    },
    {
      "metadata": {
        "trusted": true
      },
      "cell_type": "code",
      "source": "# 1.6 To find Distance between two points\nimport math\nx1=float(input('Enter the First value of Starting point X1:'))\ny1=float(input('Enter the Second value of Starting point Y1:'))\nx2=float(input('Enter the First value of Ending point X2:'))\ny2=float(input('Enter the Second value of Ending point Y2:'))\ndist = math.sqrt((x2 - x1)**2 + (y2 - y1)**2)  \nprint ('The distance between the points is:', dist)\n# formatted output\nprint ('The distance between the points is:%.2f'% dist)\n",
      "execution_count": 11,
      "outputs": [
        {
          "output_type": "stream",
          "name": "stdout",
          "text": "Enter the First value of Starting point X1:14\nEnter the Second value of Starting point Y1:25\nEnter the First value of Ending point X2:16\nEnter the Second value of Ending point Y2:29\nThe distance between the points is: 4.47213595499958\nThe distance between the points is:4.47\n"
        }
      ]
    },
    {
      "metadata": {
        "trusted": true
      },
      "cell_type": "code",
      "source": "# Write a python code to perform Arithmetic operation\nnum1=int(input('Enter the First number:'))\nnum2=int(input('Enter the Second number:'))\nadd1=num1+num2\nsub1=num1-num2\nmul1=num1*num2\ndiv1=num1*num2\nmod1=num1%num2\nexpo1=num1**num2\nfloor_division1=num1//num2\nprint('Addition=',add1)\nprint('Subtraction=',sub1)\nprint('Multiplication=',mul1)\nprint('Division=',div1)\nprint('Modulus=',mod1)\nprint('Exponent=',expo1)\nprint('Floor Division=',floor_division1)            ",
      "execution_count": 1,
      "outputs": [
        {
          "output_type": "stream",
          "name": "stdout",
          "text": "Enter the First number:50\nEnter the Second number:10\nAddition= 60\nSubtraction= 40\nMultiplication= 500\nDivision= 500\nModulus= 0\nExponent= 97656250000000000\nFloor Division= 5\n"
        }
      ]
    },
    {
      "metadata": {
        "trusted": true
      },
      "cell_type": "code",
      "source": "# 2.2 Calcuate Square, Cube, Exponent of a Number and Squareroot.\nimport math\nnumber1=int(input('Enter the First Number:'))\nnumber2=int(input('Enter the Second Number:'))\nsquare1=number1**2\ncube1=number1**3\nexponent1=number1**number2\nsquareroot1=math.sqrt(number1)\nprint(num1)\nprint('Square of ',number1,'is',square1)\nprint('Cube of ',number1,'is',cube1)\nprint('Exponent of ',number1,'and',num2,'is',exponent1)\nprint('Squareroot of ',number1,'is',squareroot1)\n",
      "execution_count": 8,
      "outputs": [
        {
          "output_type": "stream",
          "name": "stdout",
          "text": "Enter the First Number:10\nEnter the Second Number:2\n50\nSquare of  10 is 100\nCube of  10 is 1000\nExponent of  10 and 2 is 100\nSquareroot of  10 is 3.1622776601683795\n"
        }
      ]
    },
    {
      "metadata": {},
      "cell_type": "markdown",
      "source": "## "
    },
    {
      "metadata": {
        "trusted": true
      },
      "cell_type": "code",
      "source": "# Write a python program to display the current Python version, Keywords and Calendar\nimport sys\nimport keyword\nimport calendar\nprint('Current System Version=',sys.version)\nprint('Keywords List=',keyword.kwlist)\nmonth1=int(input('Enter the Month in Two Digits:'))\nyear1=int(input('Enter theYear in Four Digits:'))\nprint('\\n Calendar of Month',month1,'and Year', year1)\nprint(calendar.month(year1,month1))\nprint('-----------------------------')\nprint('\\n Calendar of Year',year1)\nprint(calendar.calendar(year1))\n",
      "execution_count": 1,
      "outputs": [
        {
          "output_type": "stream",
          "text": "Current System Version= 3.6.6 |Anaconda, Inc.| (default, Jun 28 2018, 17:14:51) \n[GCC 7.2.0]\nKeywords List= ['False', 'None', 'True', 'and', 'as', 'assert', 'break', 'class', 'continue', 'def', 'del', 'elif', 'else', 'except', 'finally', 'for', 'from', 'global', 'if', 'import', 'in', 'is', 'lambda', 'nonlocal', 'not', 'or', 'pass', 'raise', 'return', 'try', 'while', 'with', 'yield']\nEnter the Month in Two Digits:05\nEnter theYear in Four Digits:2019\n\n Calendar of Month 5 and Year 2019\n      May 2019\nMo Tu We Th Fr Sa Su\n       1  2  3  4  5\n 6  7  8  9 10 11 12\n13 14 15 16 17 18 19\n20 21 22 23 24 25 26\n27 28 29 30 31\n\n-----------------------------\n\n Calendar of Year 2019\n                                  2019\n\n      January                   February                   March\nMo Tu We Th Fr Sa Su      Mo Tu We Th Fr Sa Su      Mo Tu We Th Fr Sa Su\n    1  2  3  4  5  6                   1  2  3                   1  2  3\n 7  8  9 10 11 12 13       4  5  6  7  8  9 10       4  5  6  7  8  9 10\n14 15 16 17 18 19 20      11 12 13 14 15 16 17      11 12 13 14 15 16 17\n21 22 23 24 25 26 27      18 19 20 21 22 23 24      18 19 20 21 22 23 24\n28 29 30 31               25 26 27 28               25 26 27 28 29 30 31\n\n       April                      May                       June\nMo Tu We Th Fr Sa Su      Mo Tu We Th Fr Sa Su      Mo Tu We Th Fr Sa Su\n 1  2  3  4  5  6  7             1  2  3  4  5                      1  2\n 8  9 10 11 12 13 14       6  7  8  9 10 11 12       3  4  5  6  7  8  9\n15 16 17 18 19 20 21      13 14 15 16 17 18 19      10 11 12 13 14 15 16\n22 23 24 25 26 27 28      20 21 22 23 24 25 26      17 18 19 20 21 22 23\n29 30                     27 28 29 30 31            24 25 26 27 28 29 30\n\n        July                     August                  September\nMo Tu We Th Fr Sa Su      Mo Tu We Th Fr Sa Su      Mo Tu We Th Fr Sa Su\n 1  2  3  4  5  6  7                1  2  3  4                         1\n 8  9 10 11 12 13 14       5  6  7  8  9 10 11       2  3  4  5  6  7  8\n15 16 17 18 19 20 21      12 13 14 15 16 17 18       9 10 11 12 13 14 15\n22 23 24 25 26 27 28      19 20 21 22 23 24 25      16 17 18 19 20 21 22\n29 30 31                  26 27 28 29 30 31         23 24 25 26 27 28 29\n                                                    30\n\n      October                   November                  December\nMo Tu We Th Fr Sa Su      Mo Tu We Th Fr Sa Su      Mo Tu We Th Fr Sa Su\n    1  2  3  4  5  6                   1  2  3                         1\n 7  8  9 10 11 12 13       4  5  6  7  8  9 10       2  3  4  5  6  7  8\n14 15 16 17 18 19 20      11 12 13 14 15 16 17       9 10 11 12 13 14 15\n21 22 23 24 25 26 27      18 19 20 21 22 23 24      16 17 18 19 20 21 22\n28 29 30 31               25 26 27 28 29 30         23 24 25 26 27 28 29\n                                                    30 31\n\n",
          "name": "stdout"
        }
      ]
    },
    {
      "metadata": {
        "trusted": true
      },
      "cell_type": "code",
      "source": "# Write a python program to check the person is elgible to cast the vote or not..\nage=int(input('Enter your age:'))\nif(age>=18):\n    print('Congrats! You are Eligible to cast the Vote')\nelse:\n    print('Sorry! You are not Eligible to vote')\n    ",
      "execution_count": 7,
      "outputs": [
        {
          "output_type": "stream",
          "name": "stdout",
          "text": "Enter your age:16\nSorry! You are not Elgible to vote\n"
        }
      ]
    },
    {
      "metadata": {
        "trusted": true
      },
      "cell_type": "code",
      "source": "# 2.5 Write a python code to check the given number is odd or even..\nnum1=int(input('Enter a number:'))\nif(num1%2 ==0):\n    print('Num1 is EVEN')\nelse:\n    print('Num1 is ODD')",
      "execution_count": 9,
      "outputs": [
        {
          "output_type": "stream",
          "name": "stdout",
          "text": "Enter a number:90\nNum1 is EVEN\n"
        }
      ]
    },
    {
      "metadata": {
        "trusted": true
      },
      "cell_type": "code",
      "source": "# 3.1 Write a python code to find the biggest among two numbers\nnum1=float(input('Enter the first number:'))\nnum2=float(input('Enter the second number:'))\nif(num1>num2):\n    print('Number1 is the biggest number',num1)\nelse:\n    print('Number2 is the biggest number',num2)\n    ",
      "execution_count": 10,
      "outputs": [
        {
          "output_type": "stream",
          "name": "stdout",
          "text": "Enter the first number:45\nEnter the second number:25\nNumber1 is the biggest number 45.0\n"
        }
      ]
    },
    {
      "metadata": {
        "trusted": true
      },
      "cell_type": "code",
      "source": "# 3.2 Write a python code to find the biggest number among three numbers..\nnum1=int(input('Enter the first number'))\nnum2=int(input('Enter the Second number'))\nnum3=int(input('Enter the Third number'))\nif(num1>num2)and (num1>num3):\n    print(num1,' is greater than ',num2 ,' and ', num3)\nelif(num2>num3):\n    print(num2,' is greater than ',num1 ,' and ', num3)\nelse:\n    print(num3,' is greater than ',num2 ,' and ', num1)\n",
      "execution_count": 11,
      "outputs": [
        {
          "output_type": "stream",
          "name": "stdout",
          "text": "Enter the first number15\nEnter the Second number46\nEnter the Third number89\n89  is greater than  46  and  15\n"
        }
      ]
    },
    {
      "metadata": {
        "trusted": true
      },
      "cell_type": "code",
      "source": "# 3.3 Write a python code to check the given number is Positive or Negative or Zero..\nnum1=int(input('Enter the number:'))\nif(num1==0):\n    print('The given number ',num1,' is Zero')\nelif(num1>0):\n    print('The given number ',num1,' is Positive')\nelse:\n    print('The given number ',num1,' is Negative')",
      "execution_count": 12,
      "outputs": [
        {
          "output_type": "stream",
          "name": "stdout",
          "text": "Enter the number:5\nThe given number  5  is Positive\n"
        }
      ]
    },
    {
      "metadata": {
        "trusted": true
      },
      "cell_type": "code",
      "source": "# 3.4 Write a python code to find the grade for a given mark\nmark1=int(input('Enter the mark1:'))\nif(mark1>90 and mark1<=100):\n    print('S Grade')\nelif(mark1>80 and mark1<=90):\n    print('A+ Grade')\nelif(mark1>70 and mark1<=80):\n    print('A Grade')\nelif(mark1>60 and mark1<=70):\n    print('B+ Grade')\nelif(mark1>=50 and mark1<=60):\n    print('B Grade')\nelse:\n    print('RA')",
      "execution_count": 3,
      "outputs": [
        {
          "output_type": "stream",
          "name": "stdout",
          "text": "Enter the mark1:75\nA Grade\n"
        }
      ]
    },
    {
      "metadata": {
        "trusted": true
      },
      "cell_type": "code",
      "source": "# 3.5 Write a python code to find the given year is Leap or NOT..\nyear1=int(input('Enter the year:'))\nif((year1%4 ==0) and (year1%100 !=0)):\n    print('Leap Year')\nelse:\n    print('Not a Leap Year')",
      "execution_count": 6,
      "outputs": [
        {
          "output_type": "stream",
          "name": "stdout",
          "text": "Enter the year:2004\nLeap Year\n"
        }
      ]
    },
    {
      "metadata": {
        "trusted": true
      },
      "cell_type": "code",
      "source": "# 4.1 Write a python code to print the first 10 numbers\nnum1=int(input('Enter the range value 10:'))\ni=1\nprint('The first 10 Natural Number:')\nwhile(i<=num1):\n    print(i)\n    i=i+1\nprint('End of the program..')\n",
      "execution_count": 8,
      "outputs": [
        {
          "output_type": "stream",
          "name": "stdout",
          "text": "Enter the range value 10:10\nThe first 10 Natural Number:\n1\n2\n3\n4\n5\n6\n7\n8\n9\n10\nEnd of the program..\n"
        }
      ]
    },
    {
      "metadata": {
        "trusted": true
      },
      "cell_type": "code",
      "source": "# 4.2 Write a python code to find the sum and average of first n numbers.\nnum1=int(input('Enter the value for n:'))\nsum1=0\naverage1=0.0\nfor i in range(1,num1+1,1):\n    sum1=sum1+i\naverage1=sum1/num1\nprint('Sum of first n numbers=',sum1)\nprint('Average of first n numbers=',average1)",
      "execution_count": 3,
      "outputs": [
        {
          "output_type": "stream",
          "name": "stdout",
          "text": "Enter the value for n:10\nSum of first n numbers= 55\nAverage of first n numbers= 5.5\n"
        }
      ]
    },
    {
      "metadata": {
        "trusted": true
      },
      "cell_type": "code",
      "source": "# 4.3 Write a python code to checka given number is PRIME or NOT\nnum1=int(input('Enter the number greater than or equal to 2:'))\ni=2\nprime=0\nwhile(i<= num1//2):\n    if(num1%i == 0):\n        prime=1\n        break\n    i=i+1\nif(prime==0):\n    print(num1,' is Prime Number')\nelse:\n    print(num1,' is NOT a Prime Number')",
      "execution_count": 5,
      "outputs": [
        {
          "output_type": "stream",
          "name": "stdout",
          "text": "Enter the number greater than or equal to 2:7\n7  is Prime Number\n"
        }
      ]
    },
    {
      "metadata": {
        "trusted": true
      },
      "cell_type": "code",
      "source": "# 4.4 Write a python code to find the GCD of two numbes using eucledian algorithm\nnum1=int(input('Enter the First Number:'))\nnum2=int(input('Enter the Second Number:'))\ntemp1=num1\ntemp2=num2\nif(num2>num1):\n    num1,num2=num2,num1\nwhile(num2>0):\n    num1,num2=num2,num1%num2\nprint('GCD of ',temp1,' and ',temp2,' is ',num1)\n",
      "execution_count": 2,
      "outputs": [
        {
          "output_type": "stream",
          "name": "stdout",
          "text": "Enter the First Number:116\nEnter the Second Number:72\nGCD of  116  and  72  is  4\n"
        }
      ]
    },
    {
      "metadata": {
        "trusted": true
      },
      "cell_type": "code",
      "source": "# 4.5 Write a python code to find the squareoot of a given number using NEWTONs method.\na=int(input('Enter the First number:'))\nb=int(input('Enter the Second number:'))\nguess=0.5*a\nfor i in range(b+1):\n    guess=(guess+a/guess)/2\nprint('Squre root of ',a,'= ',guess)    ",
      "execution_count": 9,
      "outputs": [
        {
          "output_type": "stream",
          "name": "stdout",
          "text": "Enter the First number:4\nEnter the Second number:5\nSqure root of  4 =  2.0\n"
        }
      ]
    },
    {
      "metadata": {
        "trusted": true
      },
      "cell_type": "code",
      "source": "# 4.6 Write a python code to Circulate the value of N Numbers\nlist1=[]\nnum=int(input('Enter the Total Number of Elements:'))\nfor i in range(num):\n    num1=int(input())\n    list1.append(num1)\nprint('Entered Elements =',list1)\nprint('\\n Circulating the Elements in the list:\\n')\nfor i in range(num):\n    temp=list1.pop(0)\n    list1.append(temp)\n    print(list1)\n    \n    ",
      "execution_count": 12,
      "outputs": [
        {
          "output_type": "stream",
          "name": "stdout",
          "text": "Enter the Total Number of Elements:5\n45\n56\n82\n14\n60\nEntered Elements = [45, 56, 82, 14, 60]\n\n Circulating the Elements in the list:\n\n[56, 82, 14, 60, 45]\n[82, 14, 60, 45, 56]\n[14, 60, 45, 56, 82]\n[60, 45, 56, 82, 14]\n[45, 56, 82, 14, 60]\n"
        }
      ]
    },
    {
      "metadata": {
        "trusted": true
      },
      "cell_type": "code",
      "source": "# 5.1 Write a python code to check whether a given number is palindrome or NOT.\nnum1=int(input('Enter a Number:'))\npalind=num1\nrev=0\nwhile num1>0:\n    rem=num1%10\n    num1=num1//10\n    rev=rev*10 + rem\nif(palind==rev):\n    print('The given number is palindrome..')\nelse:\n    print('The given number is not a palindrome..')",
      "execution_count": 2,
      "outputs": [
        {
          "output_type": "stream",
          "name": "stdout",
          "text": "Enter a Number:2546\nThe given number is not a palindrome..\n"
        }
      ]
    },
    {
      "metadata": {
        "trusted": true
      },
      "cell_type": "code",
      "source": "# 5.2 Write a python code to find the given number is amstrong or Not.\nn=int(input('Enter the number:'))\ns=0\nnum=n\nwhile(n>0):\n    r=n%10\n    s=s+(r**3)\n    n=n//10\nif(s==num):\n    print('The number is Amstrong')\nelse:\n    print('The number is not Amstrong')\n",
      "execution_count": 4,
      "outputs": [
        {
          "output_type": "stream",
          "name": "stdout",
          "text": "Enter the number:153\nThe number is Amstrong\n"
        }
      ]
    },
    {
      "metadata": {
        "trusted": true
      },
      "cell_type": "code",
      "source": "# 5.3 Write a python code to print first n prime number\nlimit=int(input('Enter a number:'))\nfor i in range(2,limit+1):\n    k=0\n    for j in range(2,i//2+1):\n        if(i%j==0):\n            k=k+1\n            break\n    if(k==0):\n        print(i)        \n        ",
      "execution_count": 8,
      "outputs": [
        {
          "output_type": "stream",
          "name": "stdout",
          "text": "Enter a number:27\n2\n3\n5\n7\n11\n13\n17\n19\n23\n"
        }
      ]
    },
    {
      "metadata": {
        "trusted": true
      },
      "cell_type": "code",
      "source": "# 5.4 Write a python code to print the numbers in Triangle Pattern.\nnum1=int(input('Enter the limit for pattern:'))\nfor i in range(1,num1+1):\n    print()\n    for j in range(1,i+1):\n        print(j,end=\" \")\n        ",
      "execution_count": 10,
      "outputs": [
        {
          "output_type": "stream",
          "name": "stdout",
          "text": "Enter the limit for pattern:6\n\n1 \n1 2 \n1 2 3 \n1 2 3 4 \n1 2 3 4 5 \n1 2 3 4 5 6 "
        }
      ]
    },
    {
      "metadata": {
        "trusted": true,
        "scrolled": true
      },
      "cell_type": "code",
      "source": "# 6.1 Write a python code to calculate factorial of a number using looping.\nnum=int(input('Enter a number:'))\nfactorial=1\nif(num<0):\n    print('Sorry.. Factorial does not exists for negative value')\nelif (num==0):\n    print('The factorial of 0 is 1')\nelse:\n    for i in range(1,num+1):\n        factorial=factorial*i\nprint('The factorial of ',num, ' is ',factorial )",
      "execution_count": 11,
      "outputs": [
        {
          "output_type": "stream",
          "name": "stdout",
          "text": "Enter a number:5\nThe factorial of  5  is  120\n"
        }
      ]
    },
    {
      "metadata": {
        "trusted": true
      },
      "cell_type": "code",
      "source": "# 6.1 Write a python code to calculate the factorial of a given number sing recursion\ndef factorial(n):\n    if(n==1) or (n==0):\n        return 1\n    else:\n        return(n*factorial(n-1))\n\nn=int(input('Enter the number:'))\nprint('Factorial of ',n,' is',factorial(n))\n\n",
      "execution_count": 12,
      "outputs": [
        {
          "output_type": "stream",
          "name": "stdout",
          "text": "Enter the number:5\nFactorial of  5  is 120\n"
        }
      ]
    },
    {
      "metadata": {
        "trusted": true
      },
      "cell_type": "code",
      "source": "# 6.2 Write a python code to list the numbers between 0 to 100 divisible by 2 and not by 3,5\nnum1=int(input('\\n Enter the Maximum range as 100='))\ncount=0\nfor i in range(1,num1+1):\n    if (i%2==0 and (i%3!=0 and i%5 !=0)):\n        print(i,' is divisible by 2 not by 3 and 5')\n        count=count+1\nprint('Total numbers between 1 to 100 divisible by 2 and not by 3 and 5',count)            ",
      "execution_count": 17,
      "outputs": [
        {
          "output_type": "stream",
          "name": "stdout",
          "text": "\n Enter the Maximum range as 100=55\n2  is divisible by 2 not by 3 and 5\n4  is divisible by 2 not by 3 and 5\n8  is divisible by 2 not by 3 and 5\n14  is divisible by 2 not by 3 and 5\n16  is divisible by 2 not by 3 and 5\n22  is divisible by 2 not by 3 and 5\n26  is divisible by 2 not by 3 and 5\n28  is divisible by 2 not by 3 and 5\n32  is divisible by 2 not by 3 and 5\n34  is divisible by 2 not by 3 and 5\n38  is divisible by 2 not by 3 and 5\n44  is divisible by 2 not by 3 and 5\n46  is divisible by 2 not by 3 and 5\n52  is divisible by 2 not by 3 and 5\nTotal numbers between 1 to 100 divisible by 2 and not by 3 and 5 14\n"
        }
      ]
    },
    {
      "metadata": {
        "trusted": true
      },
      "cell_type": "code",
      "source": "# 6.3 Write a python code to find square and cube of a number using function.\ndef square_func(num1):\n    square1=num1**2\n    return(square1)\ndef cube_func(num1):\n    cube1=num1**3\n    return(cube1)\n\nnum1=int(input('Enter any Number:'))\nsquare1=square_func(num1)\ncube1=cube_func(num1)\nprint('\\nThe square root of given number ', num1,' is ', square1)\nprint('\\n The cube of given number ',num1,' is ',cube1)\n",
      "execution_count": 18,
      "outputs": [
        {
          "output_type": "stream",
          "name": "stdout",
          "text": "Enter any Number:5\n\nThe square root of given number  5  is  25\n\n The cube of given number  5  is  125\n"
        }
      ]
    },
    {
      "metadata": {
        "trusted": true
      },
      "cell_type": "code",
      "source": "# 7.1 Write a python code to perform various built in string methods and function\nstr1=input('Enter the String:')\nprint('\\nMaximum =',max(str1))\nprint('\\nMinimum =',min(str1))\nprint('\\nLength =',len(str1))\nprint('\\nUpper = ',str1.upper())\nprint('\\nLower = ',str1.lower())\nprint('\\n isupper=',str1.isupper())\nprint('\\n islower=',str1.islower())\nprint('\\n capitalize=',str1.capitalize())",
      "execution_count": 21,
      "outputs": [
        {
          "output_type": "stream",
          "name": "stdout",
          "text": "Enter the string:Kamaraj\n\nMaximum = r\n\nMinimum = K\n\nLength = 7\n\nUpper =  KAMARAJ\n\nLower =  kamaraj\n\n isupper= False\n\n islower= False\n\n capitalize= Kamaraj\n"
        }
      ]
    },
    {
      "metadata": {
        "trusted": true
      },
      "cell_type": "code",
      "source": "# 7.2 Write a python code to reverse the string without using built-in function\ndef rev_str(str1):\n    str2=\" \"\n    i=len(str1)-1\n    while(i>=0):\n        str2=str2+str1[i]\n        i=i-1\n    print('The reverse string:',str2)\nstr1=input(\"Enter the string:\")\nrev_str(str1)",
      "execution_count": 3,
      "outputs": [
        {
          "output_type": "stream",
          "name": "stdout",
          "text": "Enter the string:KAMARAJ\nThe reverse string:  JARAMAK\n"
        }
      ]
    },
    {
      "metadata": {
        "trusted": true
      },
      "cell_type": "code",
      "source": "# 7.3 Write a python code to print first n terms of fibonacci series\n# Functon declaration\ndef fibo1(limit1):\n    num1=0\n    num2=1\n    print('The fibonacci series')\n    if(limit1==1):\n        prit(num1)\n    else:\n        print(num1)\n        print(num2)\n        count=2\n    while(count<limit1):\n        num3=num1+num2\n        print(num3)\n        num1=num2\n        num2=num3\n        count=count+1\n# Main program\nlimit1=int(input('Enter the limit value:'))\nif(limit1==0):\n    print('Enter the positive value:')\nelse:\n    fibo1(limit1)",
      "execution_count": 10,
      "outputs": [
        {
          "output_type": "stream",
          "name": "stdout",
          "text": "Enter the limit value:10\nThe fibonacci series\n0\n1\n1\n2\n3\n5\n8\n13\n21\n34\n"
        }
      ]
    },
    {
      "metadata": {
        "trusted": true
      },
      "cell_type": "code",
      "source": "# 7.3 Write a python code to add and multiply two Numbers using Lambda function.\nsum1=lambda num1,num2:num1+num2\nmult1=lambda num1,num2:num1*num2\nnum1=int(input('Enter the First number:'))\nnum2=int(input('Enter the Second number'))\nprint('Addition of two numbers using lamda function:',sum1(num1,num2))\nprint('Multiplication of two numbers using lambda function:',mult1(num1,num2))",
      "execution_count": 11,
      "outputs": [
        {
          "output_type": "stream",
          "name": "stdout",
          "text": "Enter the First number:10\nEnter the Second number20\nAddition of two numbers using lamda function: 30\nMultiplication of two numbers using lambda function: 200\n"
        }
      ]
    },
    {
      "metadata": {
        "trusted": true
      },
      "cell_type": "code",
      "source": "# 8.1 Write a python code to find the maximum and the minimum number in the list\nlist1=[]\nnum1=int(input('Enter the total number of elements:'))\nfor i in range(0,num1):\n    a=int(input())\n    list1.append(a)\nmax1=list1[0]\nmin1=list1[0]\nfor i in range(1,num1):\n    if (list1[i]>max1):\n        max1=list1[i]\n    if (list1[i]<min1):\n        min1=list1[i]\n\nprint('Maxmimum Number of the list:',max1)\nprint('Minimum Number of the list:',min1)\n",
      "execution_count": 12,
      "outputs": [
        {
          "output_type": "stream",
          "name": "stdout",
          "text": "Enter the total number of elements:5\n10\n50\n48097\n2\n5\nMaxmimum Number of the list: 48097\nMinimum Number of the list: 2\n"
        }
      ]
    },
    {
      "metadata": {
        "trusted": true
      },
      "cell_type": "code",
      "source": "# 8.2 Write a python code to perform the linear serach\ndef linear_search(list1,search):\n    flag=0\n    for i in range(len(list1)):\n        if(list1[i]==search):\n            print('The Element ',search,' is found in ',i,' Location.')\n            flag=1\n            break\n    if(flag==0):\n        print('The Element ', search,' is not found..')\n\n # main program starting here..\nlist1=[]\nnum1=int(input('\\nEnter the total number of elements:'))\nprint('\\n Enter the elements one by one.')\nfor i in range(0,num1):\n    num2=int(input())\n    list1.append(num2)\nsearch=int(input('Enter the number to search:'))\nlinear_search(list1,search)\n",
      "execution_count": 19,
      "outputs": [
        {
          "output_type": "stream",
          "name": "stdout",
          "text": "\nEnter the total number of elements:6\n\n Enter the elements one by one.\n87\n98\n54\n65\n21\n12\nEnter the number to search:54\nThe Element  54  is found in  2  Location.\n"
        }
      ]
    },
    {
      "metadata": {
        "trusted": true
      },
      "cell_type": "code",
      "source": "# 8.3 Write a python code to perform binary search..\nlist1=[]\nflag=0\nnum1=int(input('Enter the total input elements='))\nprint('Enter the element one by one')\nfor i in range(num1):\n    num2=int(input())\n    list1.append(num2)\nlow=0\nhigh=len(list1)-1\nsearch=int(input('Enter the element to search:'))\nwhile(low<=high):\n    mid=(low+high)//2\n    if(list1[mid]==search):\n        flag=1\n        print('The search Element ',search,' is found in ',mid,' position')\n        break\n    elif(search<list1[mid]):\n        high=mid-1\n    else:\n        low=mid+1\nif(flag==0):\n        print('The search element ',search,' is not found')\n        ",
      "execution_count": 21,
      "outputs": [
        {
          "output_type": "stream",
          "name": "stdout",
          "text": "Enter the total input elements=6\nEnter the element one by one\n5\n4\n7\n8\n9\n3\nEnter the element to search:7\nThe search Element  7  is found in  2  position\n"
        }
      ]
    },
    {
      "metadata": {
        "trusted": true
      },
      "cell_type": "code",
      "source": "# 8.4 Write a python code to perform matrix addition.\nprint('Enter the value for first matrix:')\nmat1=[]\nfor i in range(3):\n    row=[]\n    for j in range(3):\n        num1=int(input())\n        row.append(num1)\n    mat1.append(row)\n    print('Input matrix1 ',mat1)\nprint('Enter the value for Second matrix:')\nmat2=[]\nfor i in range(3):\n    row=[]\n    for j in range(3):\n        num2=int(input())\n        row.append(num2)\n    mat2.append(row)\n    print('\\nInput matrix2 ',mat2)\n    result=[]\nfor i in range(3):\n    row=[]\n    for j in range(3):\n        col=mat1[i][j]+mat[i][j]\n        row.append(col)\n    result.append(row)\nprint('After matrix addition..\\n ',mat1)\nfor i in range(3):\n    print()\n    for j in range(3):\n        print(result[i][j], end='\\t')",
      "execution_count": 22,
      "outputs": [
        {
          "output_type": "stream",
          "text": "Enter the value for first matrix:\n1\n2\n\n",
          "name": "stdout"
        },
        {
          "output_type": "error",
          "ename": "ValueError",
          "evalue": "invalid literal for int() with base 10: ''",
          "traceback": [
            "\u001b[0;31m---------------------------------------------------------------------------\u001b[0m",
            "\u001b[0;31mValueError\u001b[0m                                Traceback (most recent call last)",
            "\u001b[0;32m<ipython-input-22-70ce0c830625>\u001b[0m in \u001b[0;36m<module>\u001b[0;34m\u001b[0m\n\u001b[1;32m      5\u001b[0m     \u001b[0mrow\u001b[0m\u001b[0;34m=\u001b[0m\u001b[0;34m[\u001b[0m\u001b[0;34m]\u001b[0m\u001b[0;34m\u001b[0m\u001b[0m\n\u001b[1;32m      6\u001b[0m     \u001b[0;32mfor\u001b[0m \u001b[0mj\u001b[0m \u001b[0;32min\u001b[0m \u001b[0mrange\u001b[0m\u001b[0;34m(\u001b[0m\u001b[0;36m3\u001b[0m\u001b[0;34m)\u001b[0m\u001b[0;34m:\u001b[0m\u001b[0;34m\u001b[0m\u001b[0m\n\u001b[0;32m----> 7\u001b[0;31m         \u001b[0mnum1\u001b[0m\u001b[0;34m=\u001b[0m\u001b[0mint\u001b[0m\u001b[0;34m(\u001b[0m\u001b[0minput\u001b[0m\u001b[0;34m(\u001b[0m\u001b[0;34m)\u001b[0m\u001b[0;34m)\u001b[0m\u001b[0;34m\u001b[0m\u001b[0m\n\u001b[0m\u001b[1;32m      8\u001b[0m         \u001b[0mrow\u001b[0m\u001b[0;34m.\u001b[0m\u001b[0mappend\u001b[0m\u001b[0;34m(\u001b[0m\u001b[0mnum1\u001b[0m\u001b[0;34m)\u001b[0m\u001b[0;34m\u001b[0m\u001b[0m\n\u001b[1;32m      9\u001b[0m     \u001b[0mmat1\u001b[0m\u001b[0;34m.\u001b[0m\u001b[0mappend\u001b[0m\u001b[0;34m(\u001b[0m\u001b[0mrow\u001b[0m\u001b[0;34m)\u001b[0m\u001b[0;34m\u001b[0m\u001b[0m\n",
            "\u001b[0;31mValueError\u001b[0m: invalid literal for int() with base 10: ''"
          ]
        }
      ]
    },
    {
      "metadata": {
        "trusted": true
      },
      "cell_type": "code",
      "source": "m=int(input('ENTER MARTIX ROW SIZE m : '))\nn=int(input('ENTER MARTIX COLUMN SIZE n : '))\n \n#initializing matrix elements as 0\nX = [[0]*n for j in range(m)]\nY = [[0]*n for j in range(m)]\nresult = [[0]*n for j in range(m)]\n \nprint ('INPUT-FIRST MATRIX : ')\n#getting input to matrix X\nfor i in range (m):\n    for j in range (n):\n        print ('entry in row: ',i+1,' column: ',j+1)\n        X[i][j] = int(input())\n    \nprint ('INPUT-SECOND MATRIX : ')    \n#getting input to matrix X\nfor i in range (m):\n    for j in range (n):\n        print ('entry in row: ',i+1,' column: ',j+1)\n        Y[i][j] = int(input())\n\n#printing first matrix X\nprint ('PRINT-FIRST MATRIX : ')\nfor i in range (m):\n    for j in range (n):\n        print (X[i][j],end='\\t')\n    print('\\n')\n    \nprint ('PRINT-SECOND MATRIX : ')\n#printing second matrix Y\nfor i in range (m):\n    for j in range (n):\n        print (Y[i][j],end='\\t')\n    print ('\\n')\n\n#adding X and Y to result\nfor i in range(len(X)):\n    for j in range(len(X[0])):\n        result[i][j] = X[i][j] + Y[i][j]\n#displaying result\nprint ('SUM OF MATRICES IS : ')\nfor i in range (m):\n    for j in range (n):\n        print (result[i][j],end='\\t')\n    print ('\\n')\n",
      "execution_count": null,
      "outputs": []
    },
    {
      "metadata": {
        "trusted": true
      },
      "cell_type": "code",
      "source": "# Ex.No. 8.5 MATRIX MULTIPLICATION\n\nm=int(input('ENTER MARTIX ROW SIZE m : '))\nn=int(input('ENTER MARTIX COLUMN SIZE n : '))\n \n#initializing matrix elements as 0\nX = [[0]*n for j in range(m)]\nY = [[0]*n for j in range(m)]\nresult = [[0]*n for j in range(m)]\n \nprint ('INPUT-FIRST MATRIX : ')\n#getting input to matrix X\nfor i in range (m):\n    for j in range (n):\n        print ('entry in row: ',i+1,' column: ',j+1)\n        X[i][j] = int(input())\n    \nprint ('INPUT-SECOND MATRIX : ')    \n#getting input to matrix X\nfor i in range (m):\n    for j in range (n):\n        print ('entry in row: ',i+1,' column: ',j+1)\n        Y[i][j] = int(input())\n\n#printing first matrix X\nprint ('PRINT-FIRST MATRIX : ')\nfor i in range (m):\n    for j in range (n):\n        print (X[i][j],end='\\t')\n    print('\\n')\n    \nprint ('PRINT-SECOND MATRIX : ')\n#printing second matrix Y\nfor i in range (m):\n    for j in range (n):\n        print (Y[i][j],end='\\t')\n    print ('\\n')\n\n#Multiply X with Y to result\nfor i in range(m):\n    for j in range(n):\n        result[i][j]=0\n        for k in range(m):\n            result[i][j] = result[i][j]+X[i][k] + Y[k][j]\n#displaying result\nprint ('MULTIPLY - MATRICES IS : ')\nfor i in range (m):\n    for j in range (n):\n        print (result[i][j],end='\\t')\n    print ('\\n')\n",
      "execution_count": 1,
      "outputs": [
        {
          "output_type": "stream",
          "name": "stdout",
          "text": "ENTER MARTIX ROW SIZE m : 3\nENTER MARTIX COLUMN SIZE n : 3\nINPUT-FIRST MATRIX : \nentry in row:  1  column:  1\n1\nentry in row:  1  column:  2\n0\nentry in row:  1  column:  3\n1\nentry in row:  2  column:  1\n2\nentry in row:  2  column:  2\n0\nentry in row:  2  column:  3\n2\nentry in row:  3  column:  1\n3\nentry in row:  3  column:  2\n1\nentry in row:  3  column:  3\n1\nINPUT-SECOND MATRIX : \nentry in row:  1  column:  1\n2\nentry in row:  1  column:  2\n\n"
        },
        {
          "output_type": "error",
          "ename": "ValueError",
          "evalue": "invalid literal for int() with base 10: ''",
          "traceback": [
            "\u001b[0;31m---------------------------------------------------------------------------\u001b[0m",
            "\u001b[0;31mValueError\u001b[0m                                Traceback (most recent call last)",
            "\u001b[0;32m<ipython-input-1-7816cefb2dd3>\u001b[0m in \u001b[0;36m<module>\u001b[0;34m\u001b[0m\n\u001b[1;32m     21\u001b[0m     \u001b[0;32mfor\u001b[0m \u001b[0mj\u001b[0m \u001b[0;32min\u001b[0m \u001b[0mrange\u001b[0m \u001b[0;34m(\u001b[0m\u001b[0mn\u001b[0m\u001b[0;34m)\u001b[0m\u001b[0;34m:\u001b[0m\u001b[0;34m\u001b[0m\u001b[0m\n\u001b[1;32m     22\u001b[0m         \u001b[0mprint\u001b[0m \u001b[0;34m(\u001b[0m\u001b[0;34m'entry in row: '\u001b[0m\u001b[0;34m,\u001b[0m\u001b[0mi\u001b[0m\u001b[0;34m+\u001b[0m\u001b[0;36m1\u001b[0m\u001b[0;34m,\u001b[0m\u001b[0;34m' column: '\u001b[0m\u001b[0;34m,\u001b[0m\u001b[0mj\u001b[0m\u001b[0;34m+\u001b[0m\u001b[0;36m1\u001b[0m\u001b[0;34m)\u001b[0m\u001b[0;34m\u001b[0m\u001b[0m\n\u001b[0;32m---> 23\u001b[0;31m         \u001b[0mY\u001b[0m\u001b[0;34m[\u001b[0m\u001b[0mi\u001b[0m\u001b[0;34m]\u001b[0m\u001b[0;34m[\u001b[0m\u001b[0mj\u001b[0m\u001b[0;34m]\u001b[0m \u001b[0;34m=\u001b[0m \u001b[0mint\u001b[0m\u001b[0;34m(\u001b[0m\u001b[0minput\u001b[0m\u001b[0;34m(\u001b[0m\u001b[0;34m)\u001b[0m\u001b[0;34m)\u001b[0m\u001b[0;34m\u001b[0m\u001b[0m\n\u001b[0m\u001b[1;32m     24\u001b[0m \u001b[0;34m\u001b[0m\u001b[0m\n\u001b[1;32m     25\u001b[0m \u001b[0;31m#printing first matrix X\u001b[0m\u001b[0;34m\u001b[0m\u001b[0;34m\u001b[0m\u001b[0m\n",
            "\u001b[0;31mValueError\u001b[0m: invalid literal for int() with base 10: ''"
          ]
        }
      ]
    },
    {
      "metadata": {
        "trusted": true
      },
      "cell_type": "code",
      "source": "# Ex.No. 9.1 Built-In function with list\nlist1=[10,30,70,80,66,90]\nlist2=[10,500,400,300,300,700]\nprint('Maximum in the list1=',max(list1),' list2=',max(list2))\nprint('Minimum in the list1=',min(list1),' list2=', min(list2))\nprint('Length of the list=', len(list1), 'and list2=',len(list2))\nprint('Sum of list1=', sum(list1),' and list2=',sum(list2))\nprint('Concatenation of the list1 and list2=',list1+list2)\n#print('Repetition of the list1=',list1**2)\nprint('Membership 30 in list1=',30 in list1)\nprint('Membership 30 not in list=', 30 not in list1)\nprint('Membership 400 in list2=',400 in list2)\nprint('Membership 400 not in list2=',400 not in list2)\nprint('Counting the input number in the list2=', list2.count(300))\nprint('Sorted of list1=',sorted(list1))\nprint('Sorted of list2=', sorted(list2))\nlist1.sort()\nprint('Sorting of list1=', list1)\nlist1.append(978)\nprint('After Append of list1=',list1)\nlist1.reverse()\nprint('Reversing of list1=',list1)\n#list1.extend(70,30,80)\n#print('Extending of list1=',list1)\ncnt=list2.count(700)\nprint('Count 700 in list2=',cnt)\n",
      "execution_count": 8,
      "outputs": [
        {
          "output_type": "stream",
          "text": "Maximum in the list1= 90  list2= 700\nMinimum in the list1= 10  list2= 10\nLength of the list= 6 and list2= 6\nSum of list1= 346  and list2= 2210\nConcatenation of the list1 and list2= [10, 30, 70, 80, 66, 90, 10, 500, 400, 300, 300, 700]\nMembership 30 in list1= True\nMembership 30 not in list= False\nMembership 400 in list2= True\nMembership 400 not in list2= False\nCounting the input number in the list2= 2\nSorted of list1= [10, 30, 66, 70, 80, 90]\nSorted of list2= [10, 300, 300, 400, 500, 700]\nSorting of list1= [10, 30, 66, 70, 80, 90]\nAfter Append of list1= [10, 30, 66, 70, 80, 90, 978]\nReversing of list1= [978, 90, 80, 70, 66, 30, 10]\nCount 700 in list2= 1\n",
          "name": "stdout"
        }
      ]
    },
    {
      "metadata": {
        "trusted": true
      },
      "cell_type": "code",
      "source": "# Ex.No. 9.2 To search theelement in the dictionary\nstudents={'19uit01':'XXXXX','19uit02':'YYYYY','19uite03':'ZZZZZ'}\nflag=0\nprint('Roll Number =',students.keys())\nprint('Name=',students.values())\nsearch=input('Enter the Roll number to search:')\nfor i in students:\n    students[i]\n    if(i==search):\n        flag=1\n        print('The search element ', search,' Name :',students[i],' is found')\n        break\nif(flag==0):\n    print('The search element ', search,' is not found')",
      "execution_count": 10,
      "outputs": [
        {
          "output_type": "stream",
          "text": "Roll Number = dict_keys(['19uit01', '19uit02', '19uite03'])\nName= dict_values(['XXXXX', 'YYYYY', 'ZZZZZ'])\nEnter the Roll number to search:19uit06\nThe search element  19uit06  is not found\n",
          "name": "stdout"
        }
      ]
    },
    {
      "metadata": {
        "trusted": true
      },
      "cell_type": "code",
      "source": "# Ex.No. 9.3 To perform command line argument for word count\nimport sys\nprogram_name=sys.argv[0]\narguments=sys.argv[1:]\ncount=len(arguments)\nprint('File name:',program_name)\nprint('Number of words in command line ',count)\nfor i in sys.argv:\n    print('Argument:',i)    ",
      "execution_count": 11,
      "outputs": [
        {
          "output_type": "stream",
          "text": "File name: /home/nbuser/anaconda3_501/lib/python3.6/site-packages/ipykernel/__main__.py\nNumber of words in command line  2\nArgument: /home/nbuser/anaconda3_501/lib/python3.6/site-packages/ipykernel/__main__.py\nArgument: -f\nArgument: /home/nbuser/.local/share/jupyter/runtime/kernel-f15f9060-b30d-420c-984f-b26b63d72186.json\n",
          "name": "stdout"
        }
      ]
    },
    {
      "metadata": {
        "trusted": true
      },
      "cell_type": "code",
      "source": "# Ex.No. 9.4 To Implement Histogram to count the Frequency of character using DICTIONARY.\nstr1='Welcome to Python Programming'\ndict1={}\nfor i in str1:\n    if i not in dict1:\n        dict1[i]=1\n    else:\n        dict1[i]=dict1[i]+1\nprint('\\n\\n KEYS\\t VALUES \\t FREQUENCY COUNT')\nfor i in dict1:\n    print(i,'\\t',dict1[i],'\\t\\t','*'*dict1[i])\n    ",
      "execution_count": 15,
      "outputs": [
        {
          "output_type": "stream",
          "text": "\n\n KEYS\t VALUES \t FREQUENCY COUNT\nW \t 1 \t\t *\ne \t 2 \t\t **\nl \t 1 \t\t *\nc \t 1 \t\t *\no \t 4 \t\t ****\nm \t 3 \t\t ***\n  \t 3 \t\t ***\nt \t 2 \t\t **\nP \t 2 \t\t **\ny \t 1 \t\t *\nh \t 1 \t\t *\nn \t 2 \t\t **\nr \t 2 \t\t **\ng \t 2 \t\t **\na \t 1 \t\t *\ni \t 1 \t\t *\n",
          "name": "stdout"
        }
      ]
    },
    {
      "metadata": {
        "trusted": true
      },
      "cell_type": "code",
      "source": "# Ex.No. 10.1 To do selection sort using function.\ndef selection_sort(list1):\n    print('The input elements before sorting\\n',list1)\n    for i in range(num1-1):\n        min1=i\n        for j in range(i+1,num1):\n            if(list1[min1]>list1[j]):\n                min1=j\n        list1[i],list1[min1]=list1[min1],list1[i]\n        print('The input element after sorting list..',list1)\n\n# Main program starting here..\nlist1=[]\nnum1=int(input('Enter the total input elements='))\nprint('Enter the elements one by one=')\nfor i in range(num1):\n    num2=int(input())\n    list1.append(num2)\nselection_sort(list1)        ",
      "execution_count": 17,
      "outputs": [
        {
          "output_type": "stream",
          "name": "stdout",
          "text": "Enter the total input elements=5\nEnter the elements one by one=\n12\n98\n56\n34\n75\nThe input elements before sorting\n [12, 98, 56, 34, 75]\nThe input element after sorting list.. [12, 98, 56, 34, 75]\nThe input element after sorting list.. [12, 34, 56, 98, 75]\nThe input element after sorting list.. [12, 34, 56, 98, 75]\nThe input element after sorting list.. [12, 34, 56, 75, 98]\n"
        }
      ]
    },
    {
      "metadata": {
        "trusted": true
      },
      "cell_type": "code",
      "source": "# Ex.No. 10.2 To do Insertion sort using function.\ndef insertion_sort(list1):\n    print('The input elements before sorting\\n',list1)\n    for i in range(1,num1):\n        j=i\n        while(j>0)and(list1[j-1]>list1[j]):\n            temp=list1[j]\n            list1[j]=list1[j-1]\n            list1[j-1]=temp\n            j=j-1\n        print(\"The input elements after sorting\\n\",list1)\n\n# main program starting here..\nlist1=[]\nnum1=int(input('Enter the total input elements='))\nprint('Enter the elements one by one..')\nfor i in range(num1):\n    num2=int(input())\n    list1.append(num2)\ninsertion_sort(list1)",
      "execution_count": 19,
      "outputs": [
        {
          "output_type": "stream",
          "name": "stdout",
          "text": "Enter the total input elements=5\nEnter the elements one by one..\n12\n16\n89\n64\n13\nThe input elements before sorting\n [12, 16, 89, 64, 13]\nThe input elements after sorting\n [12, 16, 89, 64, 13]\nThe input elements after sorting\n [12, 16, 89, 64, 13]\nThe input elements after sorting\n [12, 16, 64, 89, 13]\nThe input elements after sorting\n [12, 13, 16, 64, 89]\n"
        }
      ]
    },
    {
      "metadata": {
        "trusted": true
      },
      "cell_type": "code",
      "source": "# 10.3 To perform merge sort\ndef merge(left,right):\n    result=[]\n    i,j=0,0\n    while len(result)<len(left)+len(right):\n        if left[i]<right[j]:\n            result.append(left[i])\n            i+=1\n        else:\n            result.append(right[j])\n            j+=1\n        if i==len(left) or j==len(right):\n            result.extend(left[i:] or right[j:])\n            break\n    return result\ndef mergesort(list):\n    if len(list)<2:\n        return list\n    mid=len(list)//2\n    left=mergesort(list[:mid])\n    right=mergesort(list[mid:])\n    return merge(left,right)\n\n\nn=int(input('Enter the total element:'))\nlist1=[]\nprint('\\nEnter the elements one by one..')\nfor i in range(0,n):\n    list1.append(int(input()))\nprint(\"\\nBefort sorting..\")\nprint(list1)\nprint(\"\\nAfter Sorting..\")\nr=mergesort(list1)\nprint(r)         \n         \n",
      "execution_count": 1,
      "outputs": [
        {
          "output_type": "stream",
          "name": "stdout",
          "text": "Enter the total element:5\n\nEnter the elements one by one..\n15\n2\n8\n47\n90\n\nBefort sorting..\n[15, 2, 8, 47, 90]\n\nAfter Sorting..\n[2, 8, 15, 47, 90]\n"
        }
      ]
    },
    {
      "metadata": {
        "trusted": true
      },
      "cell_type": "code",
      "source": "# 11.1 To copy file1 contentsinto file2\nfp1=open('mergesort.py','r')\nfp2=open('copiedfile.py','w')\nfor i in fp1:\n    fp2.write(i)\nprint('\\nFile1 is copied into file2')\nfp1.close()\nfp2.close()\n",
      "execution_count": null,
      "outputs": []
    },
    {
      "metadata": {
        "trusted": true
      },
      "cell_type": "code",
      "source": "# 11.1 To find most frequent word in the given input file.\nfile1=open('input.py','r')\nwordfreq={}\nfor line in file1:\n    words=line.split()\n    for i in words:\n        if i in wordfreq:\n            wordfreq[i]=wordfreq[i]+1\n        else:\n            wordfreq[i]=1\n    for i in wordfreq:\n        print(i,'\\t',wordfreq[i])\n    wordfreq1=sorted(wordfreq.values())\n    print(wordfreq)\n    file1.close\nsearch=max(wordfreq)\nfor i in wordfreq:\n    if(wordfreq[i]==search):\n        print('The most frequent words is:',i,search)\n        break",
      "execution_count": 2,
      "outputs": [
        {
          "output_type": "error",
          "ename": "FileNotFoundError",
          "evalue": "[Errno 2] No such file or directory: 'input.py'",
          "traceback": [
            "\u001b[0;31m---------------------------------------------------------------------------\u001b[0m",
            "\u001b[0;31mFileNotFoundError\u001b[0m                         Traceback (most recent call last)",
            "\u001b[0;32m<ipython-input-2-152ee3d942bd>\u001b[0m in \u001b[0;36m<module>\u001b[0;34m\u001b[0m\n\u001b[1;32m      1\u001b[0m \u001b[0;31m# 11.1 To find most frequent word in the given input file.\u001b[0m\u001b[0;34m\u001b[0m\u001b[0;34m\u001b[0m\u001b[0m\n\u001b[0;32m----> 2\u001b[0;31m \u001b[0mfile1\u001b[0m\u001b[0;34m=\u001b[0m\u001b[0mopen\u001b[0m\u001b[0;34m(\u001b[0m\u001b[0;34m'input.py'\u001b[0m\u001b[0;34m,\u001b[0m\u001b[0;34m'r'\u001b[0m\u001b[0;34m)\u001b[0m\u001b[0;34m\u001b[0m\u001b[0m\n\u001b[0m\u001b[1;32m      3\u001b[0m \u001b[0mwordfreq\u001b[0m\u001b[0;34m=\u001b[0m\u001b[0;34m{\u001b[0m\u001b[0;34m}\u001b[0m\u001b[0;34m\u001b[0m\u001b[0m\n\u001b[1;32m      4\u001b[0m \u001b[0;32mfor\u001b[0m \u001b[0mline\u001b[0m \u001b[0;32min\u001b[0m \u001b[0mfile1\u001b[0m\u001b[0;34m:\u001b[0m\u001b[0;34m\u001b[0m\u001b[0m\n\u001b[1;32m      5\u001b[0m     \u001b[0mwords\u001b[0m\u001b[0;34m=\u001b[0m\u001b[0mline\u001b[0m\u001b[0;34m.\u001b[0m\u001b[0msplit\u001b[0m\u001b[0;34m(\u001b[0m\u001b[0;34m)\u001b[0m\u001b[0;34m\u001b[0m\u001b[0m\n",
            "\u001b[0;31mFileNotFoundError\u001b[0m: [Errno 2] No such file or directory: 'input.py'"
          ]
        }
      ]
    },
    {
      "metadata": {
        "trusted": true
      },
      "cell_type": "code",
      "source": "#12.1  Elliptical orbits\n\nimport pygame\nimport math\nimport sys\n\npygame.init()\n\nscreen = pygame.display.set_mode((600, 300))\npygame.display.set_caption(\"Elliptical orbit\")\n\nclock = pygame.time.Clock()\n\nwhile(True):\n    for event in pygame.event.get():\n        if event.type == pygame.QUIT:\n            sys.exit()\n   \n    xRadius = 250\n    yRadius = 100\n   \n    for degree in range(0,360,10):\n        x1 = int(math.cos(degree * 2 * math.pi / 360) * xRadius) + 300\n        y1 = int(math.sin(degree * 2 * math.pi / 360) * yRadius) + 150\n        screen.fill((0, 0, 0))\n        pygame.draw.circle(screen, (255, 0, 0), [300, 150], 35)\n        pygame.draw.ellipse(screen, (255, 255, 255), [50, 50, 500, 200], 1)\n        pygame.draw.circle(screen, (0, 0, 255), [x1, y1], 15)\n       \n        pygame.display.flip()\n        clock.tick(5)",
      "execution_count": null,
      "outputs": []
    },
    {
      "metadata": {
        "trusted": true
      },
      "cell_type": "code",
      "source": "#12.2 Python program to simulate bouncing ball using pygame.\nimport pygame\nimport math\nimport sys\npygame.init()\nsize=width, height=1500,750\nspeed=[1,1]\nblack=0,0,0\nscreen=pygame.display.set_mode(size)\nball=pygame.image.load('ball.jpg')\nballrect=ball.get_rect()\nwhile 1:\n    for event in pygame.event.get():\n        if event.type==pygame.QUIT:\n            sys.exit()\n    ballrect=ballrect.move(speed)\n    if ballrect.left<0 or ballrect.right>width:\n        speed[0]=speed[0]\n    if ballrect.top<0 or ballrect.bottom>height:\n        speed[1]=speed[1]\n    screen.fill(black)\n    screen.blit(ball,ballrect)\n    pygame.display.flip()\n            \n\n",
      "execution_count": null,
      "outputs": []
    },
    {
      "metadata": {
        "trusted": true
      },
      "cell_type": "code",
      "source": "# 13.1 To draw a square shpae using turtle\nimport turtle\nturtle.forward(50)\nturtle.right(90)\nturtle.forward(50)\nturtle.right(90)\nturtle.forward(50)\nturtle.right(90)\nturtle.forward(50)\nturtle.right(90)\n",
      "execution_count": null,
      "outputs": []
    }
  ],
  "metadata": {
    "kernelspec": {
      "name": "python36",
      "display_name": "Python 3.6",
      "language": "python"
    },
    "language_info": {
      "mimetype": "text/x-python",
      "nbconvert_exporter": "python",
      "name": "python",
      "pygments_lexer": "ipython3",
      "version": "3.6.6",
      "file_extension": ".py",
      "codemirror_mode": {
        "version": 3,
        "name": "ipython"
      }
    }
  },
  "nbformat": 4,
  "nbformat_minor": 2
}